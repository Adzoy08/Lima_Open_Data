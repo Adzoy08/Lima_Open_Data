{
 "cells": [
  {
   "cell_type": "markdown",
   "id": "b83d9ade",
   "metadata": {},
   "source": [
    "# Lima Budget and Expenditure Execution – Accrued Quarterly\n",
    "\n",
    "Analyzed by: [Samuel D. Boadi](https://bit.ly/Tableau_SDBoadi)"
   ]
  },
  {
   "cell_type": "markdown",
   "id": "17b2582c",
   "metadata": {},
   "source": [
    "Information on Quarterly Accruals from 2014 to 2023"
   ]
  },
  {
   "cell_type": "markdown",
   "id": "8af60887",
   "metadata": {},
   "source": [
    "#### Dataset Info\n",
    "> Publisher: \n",
    "[Ministry of Economy and Finance - MEF](https://www.datosabiertos.gob.pe/group/ministerio-de-econom%C3%ADa-y-finanzas-mef)\n",
    "\n",
    "\n",
    "<table>\n",
    "    <tr>\n",
    "        <th>VARIABLE</th>\n",
    "        <th>DATA TYPE</th>\n",
    "        <th>DESCRIPTION</th>\n",
    "    </tr>\n",
    "    <tr>\n",
    "        <td>Shaft Year</td>\n",
    "        <td>Numeric</td>\n",
    "        <td>Year of budget execution</td>\n",
    "    </tr>\n",
    "    <tr>\n",
    "        <td>Quarter</td>\n",
    "        <td>Numeric</td>\n",
    "        <td>Budget execution quarter</td>\n",
    "    </tr>\n",
    "    <tr>\n",
    "        <td>Department</td>\n",
    "        <td>Character</td>\n",
    "        <td>Budget Execution Department Code</td>\n",
    "    </tr>\n",
    "    <tr>\n",
    "        <td>Department Name</td>\n",
    "        <td>Character</td>\n",
    "        <td>Name of the budget execution department</td>\n",
    "    </tr>\n",
    "    <tr>\n",
    "        <td>Project Act Type</td>\n",
    "        <td>Numeric</td>\n",
    "        <td>Code that shows if it is a project or product</td>\n",
    "    </tr>\n",
    "    <tr>\n",
    "        <td>Project Act Type Name</td>\n",
    "        <td>Character</td>\n",
    "        <td>Name that indicates whether it is a project or product</td>\n",
    "    </tr>\n",
    "    <tr>\n",
    "        <td>Function</td>\n",
    "        <td>Character</td>\n",
    "        <td>Function Code</td>\n",
    "    </tr>\n",
    "    <tr>\n",
    "        <td>Function Name</td>\n",
    "        <td>Character</td>\n",
    "        <td>It corresponds to the maximum level of aggregation of the actions to be taken, aimed at the execution of a certain topic.</td>\n",
    "    </tr>\n",
    "    <tr>\n",
    "        <td>Financing Source</td>\n",
    "        <td>Character</td>\n",
    "        <td>Financing Source Code that groups one or more Items</td>\n",
    "    </tr>\n",
    "    <tr>\n",
    "        <td>Financing Source Name</td>\n",
    "        <td>Character</td>\n",
    "        <td>Description of the Funding Source.</td>\n",
    "    </tr>\n",
    "    <tr>\n",
    "        <td>Item</td>\n",
    "        <td>Character</td>\n",
    "        <td>Category Code that the Entity can use</td>\n",
    "    </tr>\n",
    "    <tr>\n",
    "        <td>Item Name</td>\n",
    "        <td>Character</td>\n",
    "        <td>Description of the Item</td>\n",
    "    </tr>\n",
    "    <tr>\n",
    "        <td>Amount Accrued</td>\n",
    "        <td>Numeric</td>\n",
    "        <td>Amount executed as the Accrued phase in the Shaft Year.</td>\n",
    "    </tr>\n",
    "</table>\n",
    "\n",
    "Here is the link to the dataset, [website](https://www.datosabiertos.gob.pe/dataset/presupuesto-y-ejecuci%C3%B3n-de-gasto-%E2%80%93-devengado-trimestral). "
   ]
  },
  {
   "cell_type": "code",
   "execution_count": 1,
   "id": "8c16d056",
   "metadata": {},
   "outputs": [],
   "source": [
    "# import necessary packages\n",
    "import glob\n",
    "import numpy as np\n",
    "import pandas as pd\n",
    "import matplotlib.pyplot as plt\n",
    "import seaborn as sb\n",
    "from deep_translator import GoogleTranslator\n",
    "\n",
    "%matplotlib inline"
   ]
  },
  {
   "cell_type": "markdown",
   "id": "44cfc68a",
   "metadata": {},
   "source": [
    "### Gathering Data"
   ]
  },
  {
   "cell_type": "code",
   "execution_count": 2,
   "id": "ae52b45b",
   "metadata": {
    "scrolled": true
   },
   "outputs": [
    {
     "data": {
      "text/html": [
       "<div>\n",
       "<style scoped>\n",
       "    .dataframe tbody tr th:only-of-type {\n",
       "        vertical-align: middle;\n",
       "    }\n",
       "\n",
       "    .dataframe tbody tr th {\n",
       "        vertical-align: top;\n",
       "    }\n",
       "\n",
       "    .dataframe thead th {\n",
       "        text-align: right;\n",
       "    }\n",
       "</style>\n",
       "<table border=\"1\" class=\"dataframe\">\n",
       "  <thead>\n",
       "    <tr style=\"text-align: right;\">\n",
       "      <th></th>\n",
       "      <th>ANO_EJE</th>\n",
       "      <th>TRIMESTRE</th>\n",
       "      <th>DEPARTAMENTO</th>\n",
       "      <th>DEPARTAMENTO_NOMBRE</th>\n",
       "      <th>TIPO_ACT_PROY</th>\n",
       "      <th>TIPO_ACT_PROY_NOMBRE</th>\n",
       "      <th>FUNCION</th>\n",
       "      <th>FUNCION_NOMBRE</th>\n",
       "      <th>FUENTE_FINANCIAMIENTO</th>\n",
       "      <th>FUENTE_FINANCIAMIENTO_NOMBRE</th>\n",
       "      <th>RUBRO</th>\n",
       "      <th>RUBRO_NOMBRE</th>\n",
       "      <th>MONTO_DEVENGADO</th>\n",
       "    </tr>\n",
       "  </thead>\n",
       "  <tbody>\n",
       "    <tr>\n",
       "      <th>0</th>\n",
       "      <td>2014</td>\n",
       "      <td>1</td>\n",
       "      <td>18</td>\n",
       "      <td>MOQUEGUA</td>\n",
       "      <td>2</td>\n",
       "      <td>PROYECTO</td>\n",
       "      <td>10</td>\n",
       "      <td>AGROPECUARIA</td>\n",
       "      <td>5</td>\n",
       "      <td>RECURSOS DETERMINADOS</td>\n",
       "      <td>18</td>\n",
       "      <td>CANON Y SOBRECANON, REGALIAS, RENTA DE ADUANAS...</td>\n",
       "      <td>3630525.66</td>\n",
       "    </tr>\n",
       "    <tr>\n",
       "      <th>1</th>\n",
       "      <td>2014</td>\n",
       "      <td>2</td>\n",
       "      <td>24</td>\n",
       "      <td>TUMBES</td>\n",
       "      <td>3</td>\n",
       "      <td>ACTIVIDAD</td>\n",
       "      <td>3</td>\n",
       "      <td>PLANEAMIENTO, GESTION Y RESERVA DE CONTINGENCIA</td>\n",
       "      <td>5</td>\n",
       "      <td>RECURSOS DETERMINADOS</td>\n",
       "      <td>18</td>\n",
       "      <td>CANON Y SOBRECANON, REGALIAS, RENTA DE ADUANAS...</td>\n",
       "      <td>1482385.43</td>\n",
       "    </tr>\n",
       "    <tr>\n",
       "      <th>2</th>\n",
       "      <td>2014</td>\n",
       "      <td>2</td>\n",
       "      <td>16</td>\n",
       "      <td>LORETO</td>\n",
       "      <td>3</td>\n",
       "      <td>ACTIVIDAD</td>\n",
       "      <td>20</td>\n",
       "      <td>SALUD</td>\n",
       "      <td>4</td>\n",
       "      <td>DONACIONES Y TRANSFERENCIAS</td>\n",
       "      <td>13</td>\n",
       "      <td>DONACIONES Y TRANSFERENCIAS</td>\n",
       "      <td>3644750.99</td>\n",
       "    </tr>\n",
       "    <tr>\n",
       "      <th>3</th>\n",
       "      <td>2014</td>\n",
       "      <td>2</td>\n",
       "      <td>23</td>\n",
       "      <td>TACNA</td>\n",
       "      <td>3</td>\n",
       "      <td>ACTIVIDAD</td>\n",
       "      <td>22</td>\n",
       "      <td>EDUCACION</td>\n",
       "      <td>2</td>\n",
       "      <td>RECURSOS DIRECTAMENTE RECAUDADOS</td>\n",
       "      <td>9</td>\n",
       "      <td>RECURSOS DIRECTAMENTE RECAUDADOS</td>\n",
       "      <td>603167.29</td>\n",
       "    </tr>\n",
       "    <tr>\n",
       "      <th>4</th>\n",
       "      <td>2014</td>\n",
       "      <td>1</td>\n",
       "      <td>1</td>\n",
       "      <td>AMAZONAS</td>\n",
       "      <td>3</td>\n",
       "      <td>ACTIVIDAD</td>\n",
       "      <td>15</td>\n",
       "      <td>TRANSPORTE</td>\n",
       "      <td>2</td>\n",
       "      <td>RECURSOS DIRECTAMENTE RECAUDADOS</td>\n",
       "      <td>9</td>\n",
       "      <td>RECURSOS DIRECTAMENTE RECAUDADOS</td>\n",
       "      <td>103179.21</td>\n",
       "    </tr>\n",
       "  </tbody>\n",
       "</table>\n",
       "</div>"
      ],
      "text/plain": [
       "   ANO_EJE  TRIMESTRE  DEPARTAMENTO DEPARTAMENTO_NOMBRE  TIPO_ACT_PROY  \\\n",
       "0     2014          1            18            MOQUEGUA              2   \n",
       "1     2014          2            24              TUMBES              3   \n",
       "2     2014          2            16              LORETO              3   \n",
       "3     2014          2            23               TACNA              3   \n",
       "4     2014          1             1            AMAZONAS              3   \n",
       "\n",
       "  TIPO_ACT_PROY_NOMBRE  FUNCION  \\\n",
       "0             PROYECTO       10   \n",
       "1            ACTIVIDAD        3   \n",
       "2            ACTIVIDAD       20   \n",
       "3            ACTIVIDAD       22   \n",
       "4            ACTIVIDAD       15   \n",
       "\n",
       "                                    FUNCION_NOMBRE  FUENTE_FINANCIAMIENTO  \\\n",
       "0                                     AGROPECUARIA                      5   \n",
       "1  PLANEAMIENTO, GESTION Y RESERVA DE CONTINGENCIA                      5   \n",
       "2                                            SALUD                      4   \n",
       "3                                        EDUCACION                      2   \n",
       "4                                       TRANSPORTE                      2   \n",
       "\n",
       "       FUENTE_FINANCIAMIENTO_NOMBRE  RUBRO  \\\n",
       "0             RECURSOS DETERMINADOS     18   \n",
       "1             RECURSOS DETERMINADOS     18   \n",
       "2       DONACIONES Y TRANSFERENCIAS     13   \n",
       "3  RECURSOS DIRECTAMENTE RECAUDADOS      9   \n",
       "4  RECURSOS DIRECTAMENTE RECAUDADOS      9   \n",
       "\n",
       "                                        RUBRO_NOMBRE  MONTO_DEVENGADO  \n",
       "0  CANON Y SOBRECANON, REGALIAS, RENTA DE ADUANAS...       3630525.66  \n",
       "1  CANON Y SOBRECANON, REGALIAS, RENTA DE ADUANAS...       1482385.43  \n",
       "2                        DONACIONES Y TRANSFERENCIAS       3644750.99  \n",
       "3                   RECURSOS DIRECTAMENTE RECAUDADOS        603167.29  \n",
       "4                   RECURSOS DIRECTAMENTE RECAUDADOS        103179.21  "
      ]
     },
     "execution_count": 2,
     "metadata": {},
     "output_type": "execute_result"
    }
   ],
   "source": [
    "# Load data and print out first 5 rows. \n",
    "path = 'data/expense'\n",
    "df = pd.concat(map(pd.read_csv, glob.glob(path + \"/2*.csv\")))\n",
    "df.head()"
   ]
  },
  {
   "cell_type": "markdown",
   "id": "c2a1baf2",
   "metadata": {},
   "source": [
    "### Assessing Data"
   ]
  },
  {
   "cell_type": "code",
   "execution_count": 3,
   "id": "6708f5fa",
   "metadata": {},
   "outputs": [
    {
     "name": "stdout",
     "output_type": "stream",
     "text": [
      "The number of samples is 491817 \n",
      "and the number of columns is 13\n"
     ]
    }
   ],
   "source": [
    "# Print the number of samples and columns in the dataset\n",
    "print('The number of samples is', df.shape[0], \n",
    "     '\\nand the number of columns is', df.shape[1])"
   ]
  },
  {
   "cell_type": "code",
   "execution_count": 4,
   "id": "899963fa",
   "metadata": {},
   "outputs": [],
   "source": [
    "# Function to check null values in the selected columns\n",
    "def check_null_values(data=df, col=False):\n",
    "    '''\n",
    "    Function to check whether a dataset has a null values \n",
    "    and the number of null values if they exist.\n",
    "\n",
    "    Parameter: data - dataset to check\n",
    "               col  - selected columns to check null the values\n",
    "\n",
    "    '''\n",
    "    if col == False:\n",
    "        num = data.isnull().sum()\n",
    "        ans = data.isnull().sum().any()\n",
    "        if ans == True:\n",
    "            print('Yes, there are null values in the dataset\\n', num, 'null values')\n",
    "        else:\n",
    "            print('No, there are no null values in the dataset')\n",
    "    else:\n",
    "        num = data[col].isnull().sum()\n",
    "        ans = data[col].isnull().sum().any()\n",
    "        if ans == True:\n",
    "            print('Yes, there are null values in the dataset\\n', num, 'null values')\n",
    "        else:\n",
    "            print('No, there are no null values in selected columns in the dataset')"
   ]
  },
  {
   "cell_type": "code",
   "execution_count": 5,
   "id": "2c75bde4",
   "metadata": {},
   "outputs": [
    {
     "name": "stdout",
     "output_type": "stream",
     "text": [
      "No, there are no null values in the dataset\n"
     ]
    }
   ],
   "source": [
    "check_null_values(df)"
   ]
  },
  {
   "cell_type": "code",
   "execution_count": 6,
   "id": "0b05f33e",
   "metadata": {},
   "outputs": [
    {
     "name": "stdout",
     "output_type": "stream",
     "text": [
      "The number of duplicate rows in the dataset is 11386\n"
     ]
    }
   ],
   "source": [
    "# Check for duplicates in the dataset.\n",
    "print('The number of duplicate rows in the dataset is', df.duplicated().sum())"
   ]
  },
  {
   "cell_type": "code",
   "execution_count": 7,
   "id": "bec3d6fd",
   "metadata": {},
   "outputs": [
    {
     "data": {
      "text/plain": [
       "ANO_EJE                           int64\n",
       "TRIMESTRE                         int64\n",
       "DEPARTAMENTO                      int64\n",
       "DEPARTAMENTO_NOMBRE              object\n",
       "TIPO_ACT_PROY                     int64\n",
       "TIPO_ACT_PROY_NOMBRE             object\n",
       "FUNCION                           int64\n",
       "FUNCION_NOMBRE                   object\n",
       "FUENTE_FINANCIAMIENTO             int64\n",
       "FUENTE_FINANCIAMIENTO_NOMBRE     object\n",
       "RUBRO                             int64\n",
       "RUBRO_NOMBRE                     object\n",
       "MONTO_DEVENGADO                 float64\n",
       "dtype: object"
      ]
     },
     "execution_count": 7,
     "metadata": {},
     "output_type": "execute_result"
    }
   ],
   "source": [
    "# Inspect data types\n",
    "df.dtypes"
   ]
  },
  {
   "cell_type": "markdown",
   "id": "2f88d36d",
   "metadata": {},
   "source": [
    "### Cleaning Data\n",
    "The dataset is clean.<br> \n",
    "Three changes will be made in the dataset:\n",
    "* Remove duplicates\n",
    "* Change datatype of _Shaft Year_ to date\n",
    "* Extract Lima Department for analysis\n",
    "* Remove the underscore in the columns and replace it with a space.\n",
    "* Translate all column names and values in the columns."
   ]
  },
  {
   "cell_type": "code",
   "execution_count": 8,
   "id": "53ddd6f5",
   "metadata": {},
   "outputs": [
    {
     "name": "stdout",
     "output_type": "stream",
     "text": [
      "The number of duplicate rows in the dataset is 0\n"
     ]
    }
   ],
   "source": [
    "# remove duplicates\n",
    "df.drop_duplicates(inplace=True)\n",
    "\n",
    "#Test\n",
    "print('The number of duplicate rows in the dataset is', df.duplicated().sum())"
   ]
  },
  {
   "cell_type": "code",
   "execution_count": 9,
   "id": "79108649",
   "metadata": {
    "scrolled": true
   },
   "outputs": [
    {
     "data": {
      "text/plain": [
       "dtype('<M8[ns]')"
      ]
     },
     "execution_count": 9,
     "metadata": {},
     "output_type": "execute_result"
    }
   ],
   "source": [
    "# change to datetime\n",
    "df['ANO_EJE'] = pd.to_datetime(df.ANO_EJE, format='%Y')\n",
    "\n",
    "# Test\n",
    "df['ANO_EJE'].dtype"
   ]
  },
  {
   "cell_type": "code",
   "execution_count": 10,
   "id": "36a440d4",
   "metadata": {},
   "outputs": [],
   "source": [
    "# Extract Lima for analysis\n",
    "df = df[df['DEPARTAMENTO_NOMBRE'] == 'LIMA']"
   ]
  },
  {
   "cell_type": "code",
   "execution_count": 11,
   "id": "219b87f2",
   "metadata": {},
   "outputs": [],
   "source": [
    "# replace underscore with space in the column heading \n",
    "df.columns = df.columns.str.replace('_', ' ')"
   ]
  },
  {
   "cell_type": "code",
   "execution_count": 12,
   "id": "0fd15df1",
   "metadata": {},
   "outputs": [],
   "source": [
    "def to_english(col, data=df):\n",
    "    '''\n",
    "    Function to translate values in a column to English\n",
    "\n",
    "    Parameter: col  - selected columns to translate\n",
    "               data - dataset \n",
    "    '''\n",
    "    # Unique values in the column\n",
    "    col_values = data[col].unique()\n",
    "    n = col_values.shape[0]\n",
    "\n",
    "    i = 0\n",
    "    col_values_en = []\n",
    "    for i in range(n):\n",
    "        # translate to english\n",
    "        col_values_en.append(GoogleTranslator(source='es', target='en').translate(col_values[i]))\n",
    "        i += 1\n",
    "    \n",
    "    # create a dictionary of spanish : english\n",
    "    es_en_dict = dict(map(lambda i,j : (i,j) , col_values, col_values_en))\n",
    "    \n",
    "    # replace spanish values with english in the column\n",
    "    data[col].replace(to_replace=es_en_dict, inplace=True)"
   ]
  },
  {
   "cell_type": "code",
   "execution_count": 13,
   "id": "02210243",
   "metadata": {},
   "outputs": [
    {
     "name": "stderr",
     "output_type": "stream",
     "text": [
      "C:\\Users\\Sage\\AppData\\Local\\Temp\\ipykernel_7676\\2664305081.py:23: SettingWithCopyWarning: \n",
      "A value is trying to be set on a copy of a slice from a DataFrame\n",
      "\n",
      "See the caveats in the documentation: https://pandas.pydata.org/pandas-docs/stable/user_guide/indexing.html#returning-a-view-versus-a-copy\n",
      "  data[col].replace(to_replace=es_en_dict, inplace=True)\n"
     ]
    }
   ],
   "source": [
    "# translate values in column \n",
    "# 'TYPE ACT PROJECT NAME', 'FUNCTION NAME', 'FINANCING SOURCE NAME' & 'ITEM NAME'\n",
    "#   from Spanish to English\n",
    "cols = ['TIPO ACT PROY NOMBRE', 'FUNCION NOMBRE', 'FUENTE FINANCIAMIENTO NOMBRE', 'RUBRO NOMBRE']\n",
    "for col in cols:\n",
    "    to_english(col)"
   ]
  },
  {
   "cell_type": "code",
   "execution_count": 14,
   "id": "ac24683e",
   "metadata": {},
   "outputs": [],
   "source": [
    "# translate column heading from Spanish to English\n",
    "columns = df.columns.values\n",
    "n = 0\n",
    "for column in columns:\n",
    "    df.columns.values[n] = GoogleTranslator(source='es', target='en').translate(column)\n",
    "    n += 1   "
   ]
  },
  {
   "cell_type": "code",
   "execution_count": 15,
   "id": "b7fe3e29",
   "metadata": {},
   "outputs": [],
   "source": [
    "# save new datasets for next section\n",
    "df.to_csv('data/clean_energy_data.csv', index=False)"
   ]
  }
 ],
 "metadata": {
  "kernelspec": {
   "display_name": "Python 3 (ipykernel)",
   "language": "python",
   "name": "python3"
  },
  "language_info": {
   "codemirror_mode": {
    "name": "ipython",
    "version": 3
   },
   "file_extension": ".py",
   "mimetype": "text/x-python",
   "name": "python",
   "nbconvert_exporter": "python",
   "pygments_lexer": "ipython3",
   "version": "3.8.18"
  }
 },
 "nbformat": 4,
 "nbformat_minor": 5
}
